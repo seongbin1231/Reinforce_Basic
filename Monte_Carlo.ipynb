{
  "nbformat": 4,
  "nbformat_minor": 0,
  "metadata": {
    "colab": {
      "provenance": [],
      "authorship_tag": "ABX9TyNplh2UO7vn8ikOfdfk0D7x",
      "include_colab_link": true
    },
    "kernelspec": {
      "name": "python3",
      "display_name": "Python 3"
    },
    "language_info": {
      "name": "python"
    }
  },
  "cells": [
    {
      "cell_type": "markdown",
      "metadata": {
        "id": "view-in-github",
        "colab_type": "text"
      },
      "source": [
        "<a href=\"https://colab.research.google.com/github/seongbin1231/Reinforce_Basic/blob/main/Monte_Carlo.ipynb\" target=\"_parent\"><img src=\"https://colab.research.google.com/assets/colab-badge.svg\" alt=\"Open In Colab\"/></a>"
      ]
    },
    {
      "cell_type": "code",
      "execution_count": 15,
      "metadata": {
        "id": "ODMmoBkDsuPE"
      },
      "outputs": [],
      "source": [
        "import random"
      ]
    },
    {
      "cell_type": "code",
      "source": [
        "class GridWorld():\n",
        "  def __init__(self):\n",
        "    self.x = 0\n",
        "    self.y = 0\n",
        "\n",
        "  def step(self, a):\n",
        "    if a==0:\n",
        "      self.move_right()\n",
        "    elif a==1:\n",
        "      self.move_left()\n",
        "    elif a==2:\n",
        "      self.move_up()\n",
        "    elif a==3:\n",
        "      self.move_down()\n",
        "\n",
        "    reward = -1\n",
        "    done = self.is_done()\n",
        "    return (self.x, self.y), reward, done\n",
        "\n",
        "  def move_right(self):\n",
        "    self.y += 1\n",
        "    if self.y > 3:\n",
        "      self.y = 3\n",
        "\n",
        "  def move_left(self):\n",
        "    self.y -= 1\n",
        "    if self.y < 0:\n",
        "      self.y = 0\n",
        "\n",
        "  def move_up(self):\n",
        "    self.x -= 1\n",
        "    if self.x < 0:\n",
        "      self.x = 0\n",
        "\n",
        "  def move_down(self):\n",
        "    self.x += 1\n",
        "    if self.x > 3:\n",
        "      self.x = 3\n",
        "\n",
        "  def is_done(self):\n",
        "    if self.x ==3 and self.y == 3:\n",
        "      return True\n",
        "    else :\n",
        "      return False\n",
        "\n",
        "  def get_state(self):\n",
        "    return (self.x, self.y)\n",
        "\n",
        "  def reset(self):\n",
        "    self.x = 0\n",
        "    self.y = 0\n",
        "    return (self.x, self.y)"
      ],
      "metadata": {
        "id": "hJgLD20_tDtl"
      },
      "execution_count": 16,
      "outputs": []
    },
    {
      "cell_type": "code",
      "source": [
        "class Agent():\n",
        "  def __init__(self):\n",
        "    pass\n",
        "\n",
        "  def select_action(self):\n",
        "    coin = random.random()\n",
        "    if coin < 0.25:\n",
        "      action = 0\n",
        "    elif coin < 0.5:\n",
        "      action = 1\n",
        "    elif coin <0.75:\n",
        "      action = 2\n",
        "    else:\n",
        "      action = 3\n",
        "    return action"
      ],
      "metadata": {
        "id": "Z7OA0m2yuciz"
      },
      "execution_count": 17,
      "outputs": []
    },
    {
      "cell_type": "code",
      "source": [
        "def main():\n",
        "  env = GridWorld()\n",
        "  agent = Agent()\n",
        "  data = [[0,0,0,0],[0,0,0,0],[0,0,0,0],[0,0,0,0]]\n",
        "  gamma = 1.0\n",
        "  alpha = 0.0001\n",
        "  episode_num = 50000\n",
        "\n",
        "  for k in range(episode_num):\n",
        "    done = False\n",
        "    history = []\n",
        "    while not done:\n",
        "      action = agent.select_action()\n",
        "      (x, y), reward, done = env.step(action)\n",
        "      history.append((x,y,reward))\n",
        "    env.reset()\n",
        "\n",
        "    cum_reward = 0\n",
        "    for transition in history[::-1]:\n",
        "      x, y, reward = transition\n",
        "      data[x][y] = data[x][y] + alpha * (cum_reward - data[x][y])\n",
        "      cum_reward = reward + gamma*cum_reward\n",
        "\n",
        "  for row in data:\n",
        "    print(row)"
      ],
      "metadata": {
        "id": "1rvUzzLIvABY"
      },
      "execution_count": 18,
      "outputs": []
    },
    {
      "cell_type": "code",
      "source": [
        "main()"
      ],
      "metadata": {
        "colab": {
          "base_uri": "https://localhost:8080/"
        },
        "id": "EoEnvRaQwDTW",
        "outputId": "0f1dc7ad-9f16-4fbe-efda-33000e0b038b"
      },
      "execution_count": 19,
      "outputs": [
        {
          "output_type": "stream",
          "name": "stdout",
          "text": [
            "[-58.88897067689167, -56.54470815197461, -54.37142404581759, -51.449898904273404]\n",
            "[-57.22146087801554, -54.15925483994191, -49.77216496587767, -44.72843250548402]\n",
            "[-53.41997688351357, -49.29399425229984, -40.86743478509613, -29.416249700005782]\n",
            "[-52.08828630252988, -45.71535750928049, -30.771386522892044, 0.0]\n"
          ]
        }
      ]
    }
  ]
}