{
  "nbformat": 4,
  "nbformat_minor": 0,
  "metadata": {
    "colab": {
      "provenance": [],
      "authorship_tag": "ABX9TyP7VuvZIL3BKGis7DTllASV",
      "include_colab_link": true
    },
    "kernelspec": {
      "name": "python3",
      "display_name": "Python 3"
    },
    "language_info": {
      "name": "python"
    }
  },
  "cells": [
    {
      "cell_type": "markdown",
      "metadata": {
        "id": "view-in-github",
        "colab_type": "text"
      },
      "source": [
        "<a href=\"https://colab.research.google.com/github/seongbin1231/Reinforce_Basic/blob/main/Temporal_Difference.ipynb\" target=\"_parent\"><img src=\"https://colab.research.google.com/assets/colab-badge.svg\" alt=\"Open In Colab\"/></a>"
      ]
    },
    {
      "cell_type": "code",
      "execution_count": 1,
      "metadata": {
        "id": "ODMmoBkDsuPE"
      },
      "outputs": [],
      "source": [
        "import random"
      ]
    },
    {
      "cell_type": "code",
      "source": [
        "class GridWorld():\n",
        "  def __init__(self):\n",
        "    self.x = 0\n",
        "    self.y = 0\n",
        "\n",
        "  def step(self, a):\n",
        "    if a==0:\n",
        "      self.move_right()\n",
        "    elif a==1:\n",
        "      self.move_left()\n",
        "    elif a==2:\n",
        "      self.move_up()\n",
        "    elif a==3:\n",
        "      self.move_down()\n",
        "\n",
        "    reward = -1\n",
        "    done = self.is_done()\n",
        "    return (self.x, self.y), reward, done\n",
        "\n",
        "  def move_right(self):\n",
        "    self.y += 1\n",
        "    if self.y > 3:\n",
        "      self.y = 3\n",
        "\n",
        "  def move_left(self):\n",
        "    self.y -= 1\n",
        "    if self.y < 0:\n",
        "      self.y = 0\n",
        "\n",
        "  def move_up(self):\n",
        "    self.x -= 1\n",
        "    if self.x < 0:\n",
        "      self.x = 0\n",
        "\n",
        "  def move_down(self):\n",
        "    self.x += 1\n",
        "    if self.x > 3:\n",
        "      self.x = 3\n",
        "\n",
        "  def is_done(self):\n",
        "    if self.x ==3 and self.y == 3:\n",
        "      return True\n",
        "    else :\n",
        "      return False\n",
        "\n",
        "  def get_state(self):\n",
        "    return (self.x, self.y)\n",
        "\n",
        "  def reset(self):\n",
        "    self.x = 0\n",
        "    self.y = 0\n",
        "    return (self.x, self.y)"
      ],
      "metadata": {
        "id": "hJgLD20_tDtl"
      },
      "execution_count": 2,
      "outputs": []
    },
    {
      "cell_type": "code",
      "source": [
        "class Agent():\n",
        "  def __init__(self):\n",
        "    pass\n",
        "\n",
        "  def select_action(self):\n",
        "    coin = random.random()\n",
        "    if coin < 0.25:\n",
        "      action = 0\n",
        "    elif coin < 0.5:\n",
        "      action = 1\n",
        "    elif coin <0.75:\n",
        "      action = 2\n",
        "    else:\n",
        "      action = 3\n",
        "    return action"
      ],
      "metadata": {
        "id": "Z7OA0m2yuciz"
      },
      "execution_count": 3,
      "outputs": []
    },
    {
      "cell_type": "code",
      "source": [
        "def main():\n",
        "  env = GridWorld()\n",
        "  agent = Agent()\n",
        "  data = [[0,0,0,0],[0,0,0,0],[0,0,0,0],[0,0,0,0]]\n",
        "  gamma = 1.0\n",
        "  alpha = 0.01\n",
        "  episode_num = 50000\n",
        "\n",
        "  for k in range(episode_num):\n",
        "    done = False\n",
        "    history = []\n",
        "    while not done:\n",
        "      x, y = env.get_state()\n",
        "      action = agent.select_action()\n",
        "      (x_prime, y_prime), reward, done = env.step(action)\n",
        "      x_prime, y_prime = env.get_state()\n",
        "\n",
        "      data[x][y] = data[x][y] + alpha * (reward + gamma * data[x_prime][y_prime] - data[x][y])\n",
        "    env.reset()\n",
        "\n",
        "  for row in data:\n",
        "    print(row)"
      ],
      "metadata": {
        "id": "1rvUzzLIvABY"
      },
      "execution_count": 4,
      "outputs": []
    },
    {
      "cell_type": "code",
      "source": [
        "main()"
      ],
      "metadata": {
        "colab": {
          "base_uri": "https://localhost:8080/"
        },
        "id": "EoEnvRaQwDTW",
        "outputId": "2c948208-af09-4b82-caf2-5198ccaeb0a3"
      },
      "execution_count": 5,
      "outputs": [
        {
          "output_type": "stream",
          "name": "stdout",
          "text": [
            "[-59.01717202255643, -56.57252304790271, -53.38504101059733, -50.73548827815474]\n",
            "[-56.88583923435369, -53.7772476577266, -48.84722650194711, -44.40382991662531]\n",
            "[-53.669281094118794, -49.68241675218455, -40.31187492800987, -29.15856204242968]\n",
            "[-51.173836754021565, -44.21878500807827, -29.65504123471431, 0]\n"
          ]
        }
      ]
    }
  ]
}